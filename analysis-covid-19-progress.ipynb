{
 "cells": [
  {
   "cell_type": "markdown",
   "metadata": {},
   "source": [
    "# Assesing the Worldwide Progress of COVID-19 Vaccinations Using Spark\n",
    "Individual Assignment - Spark\n",
    "\n",
    "MBD - OCT 2020\n",
    "\n",
    "Charlotte Dalenbrook"
   ]
  },
  {
   "cell_type": "markdown",
   "metadata": {},
   "source": [
    "## 1. PySpark Environment Setup"
   ]
  },
  {
   "cell_type": "code",
   "execution_count": 2,
   "metadata": {},
   "outputs": [],
   "source": [
    "import findspark\n",
    "findspark.init()\n",
    "\n",
    "from pyspark.context import SparkContext\n",
    "from pyspark.sql.session import SparkSession\n",
    "\n",
    "\n",
    "sc = SparkContext.getOrCreate()\n",
    "spark = SparkSession(sc)"
   ]
  },
  {
   "cell_type": "code",
   "execution_count": 60,
   "metadata": {},
   "outputs": [],
   "source": [
    "#all imports\n",
    "from IPython.display import display, Markdown\n",
    "from pyspark.sql.functions import when, col, count, countDistinct, desc, first, lit, to_date, min, max, split, collect_set, explode, row_number, udf, last, DataFrame\n",
    "from pyspark.sql.functions import sum as _sum\n",
    "import pandas as pd\n",
    "from pyspark.sql import Window, types\n",
    "import sys\n",
    "import numpy as np\n",
    "from functools import reduce"
   ]
  },
  {
   "cell_type": "markdown",
   "metadata": {},
   "source": [
    "## 2. Data Source and Spark DataFrame Setup"
   ]
  },
  {
   "cell_type": "code",
   "execution_count": 3,
   "metadata": {},
   "outputs": [],
   "source": [
    "vaccinationDF = spark.read \\\n",
    "                 .option(\"inferSchema\", \"true\") \\\n",
    "                 .option(\"header\", \"true\") \\\n",
    "                 .csv(\"country_vaccinations.csv\")"
   ]
  },
  {
   "cell_type": "code",
   "execution_count": 4,
   "metadata": {},
   "outputs": [
    {
     "data": {
      "text/html": [
       "<div>\n",
       "<style scoped>\n",
       "    .dataframe tbody tr th:only-of-type {\n",
       "        vertical-align: middle;\n",
       "    }\n",
       "\n",
       "    .dataframe tbody tr th {\n",
       "        vertical-align: top;\n",
       "    }\n",
       "\n",
       "    .dataframe thead th {\n",
       "        text-align: right;\n",
       "    }\n",
       "</style>\n",
       "<table border=\"1\" class=\"dataframe\">\n",
       "  <thead>\n",
       "    <tr style=\"text-align: right;\">\n",
       "      <th></th>\n",
       "      <th>country</th>\n",
       "      <th>iso_code</th>\n",
       "      <th>date</th>\n",
       "      <th>total_vaccinations</th>\n",
       "      <th>people_vaccinated</th>\n",
       "      <th>people_fully_vaccinated</th>\n",
       "      <th>daily_vaccinations_raw</th>\n",
       "      <th>daily_vaccinations</th>\n",
       "      <th>total_vaccinations_per_hundred</th>\n",
       "      <th>people_vaccinated_per_hundred</th>\n",
       "      <th>people_fully_vaccinated_per_hundred</th>\n",
       "      <th>daily_vaccinations_per_million</th>\n",
       "      <th>vaccines</th>\n",
       "      <th>source_name</th>\n",
       "      <th>source_website</th>\n",
       "    </tr>\n",
       "  </thead>\n",
       "  <tbody>\n",
       "    <tr>\n",
       "      <th>0</th>\n",
       "      <td>Algeria</td>\n",
       "      <td>DZA</td>\n",
       "      <td>2021-01-29</td>\n",
       "      <td>0.0</td>\n",
       "      <td>NaN</td>\n",
       "      <td>None</td>\n",
       "      <td>NaN</td>\n",
       "      <td>NaN</td>\n",
       "      <td>0.00</td>\n",
       "      <td>NaN</td>\n",
       "      <td>None</td>\n",
       "      <td>NaN</td>\n",
       "      <td>Sputnik V</td>\n",
       "      <td>Ministry of Health</td>\n",
       "      <td>https://www.aps.dz/regions/116777-blida-covid-...</td>\n",
       "    </tr>\n",
       "    <tr>\n",
       "      <th>1</th>\n",
       "      <td>Algeria</td>\n",
       "      <td>DZA</td>\n",
       "      <td>2021-01-30</td>\n",
       "      <td>30.0</td>\n",
       "      <td>NaN</td>\n",
       "      <td>None</td>\n",
       "      <td>30.0</td>\n",
       "      <td>30.0</td>\n",
       "      <td>0.00</td>\n",
       "      <td>NaN</td>\n",
       "      <td>None</td>\n",
       "      <td>1.0</td>\n",
       "      <td>Sputnik V</td>\n",
       "      <td>Ministry of Health</td>\n",
       "      <td>https://www.aps.dz/regions/116777-blida-covid-...</td>\n",
       "    </tr>\n",
       "    <tr>\n",
       "      <th>2</th>\n",
       "      <td>Andorra</td>\n",
       "      <td>AND</td>\n",
       "      <td>2021-01-25</td>\n",
       "      <td>576.0</td>\n",
       "      <td>576.0</td>\n",
       "      <td>None</td>\n",
       "      <td>NaN</td>\n",
       "      <td>NaN</td>\n",
       "      <td>0.75</td>\n",
       "      <td>0.75</td>\n",
       "      <td>None</td>\n",
       "      <td>NaN</td>\n",
       "      <td>Pfizer/BioNTech</td>\n",
       "      <td>Government of Andorra</td>\n",
       "      <td>https://www.govern.ad/comunicats/item/12379-se...</td>\n",
       "    </tr>\n",
       "    <tr>\n",
       "      <th>3</th>\n",
       "      <td>Andorra</td>\n",
       "      <td>AND</td>\n",
       "      <td>2021-01-26</td>\n",
       "      <td>NaN</td>\n",
       "      <td>NaN</td>\n",
       "      <td>None</td>\n",
       "      <td>NaN</td>\n",
       "      <td>66.0</td>\n",
       "      <td>NaN</td>\n",
       "      <td>NaN</td>\n",
       "      <td>None</td>\n",
       "      <td>854.0</td>\n",
       "      <td>Pfizer/BioNTech</td>\n",
       "      <td>Government of Andorra</td>\n",
       "      <td>https://www.govern.ad/comunicats/item/12379-se...</td>\n",
       "    </tr>\n",
       "    <tr>\n",
       "      <th>4</th>\n",
       "      <td>Andorra</td>\n",
       "      <td>AND</td>\n",
       "      <td>2021-01-27</td>\n",
       "      <td>NaN</td>\n",
       "      <td>NaN</td>\n",
       "      <td>None</td>\n",
       "      <td>NaN</td>\n",
       "      <td>66.0</td>\n",
       "      <td>NaN</td>\n",
       "      <td>NaN</td>\n",
       "      <td>None</td>\n",
       "      <td>854.0</td>\n",
       "      <td>Pfizer/BioNTech</td>\n",
       "      <td>Government of Andorra</td>\n",
       "      <td>https://www.govern.ad/comunicats/item/12379-se...</td>\n",
       "    </tr>\n",
       "  </tbody>\n",
       "</table>\n",
       "</div>"
      ],
      "text/plain": [
       "   country iso_code        date  total_vaccinations  people_vaccinated  \\\n",
       "0  Algeria      DZA  2021-01-29                 0.0                NaN   \n",
       "1  Algeria      DZA  2021-01-30                30.0                NaN   \n",
       "2  Andorra      AND  2021-01-25               576.0              576.0   \n",
       "3  Andorra      AND  2021-01-26                 NaN                NaN   \n",
       "4  Andorra      AND  2021-01-27                 NaN                NaN   \n",
       "\n",
       "  people_fully_vaccinated  daily_vaccinations_raw  daily_vaccinations  \\\n",
       "0                    None                     NaN                 NaN   \n",
       "1                    None                    30.0                30.0   \n",
       "2                    None                     NaN                 NaN   \n",
       "3                    None                     NaN                66.0   \n",
       "4                    None                     NaN                66.0   \n",
       "\n",
       "   total_vaccinations_per_hundred  people_vaccinated_per_hundred  \\\n",
       "0                            0.00                            NaN   \n",
       "1                            0.00                            NaN   \n",
       "2                            0.75                           0.75   \n",
       "3                             NaN                            NaN   \n",
       "4                             NaN                            NaN   \n",
       "\n",
       "  people_fully_vaccinated_per_hundred  daily_vaccinations_per_million  \\\n",
       "0                                None                             NaN   \n",
       "1                                None                             1.0   \n",
       "2                                None                             NaN   \n",
       "3                                None                           854.0   \n",
       "4                                None                           854.0   \n",
       "\n",
       "          vaccines            source_name  \\\n",
       "0        Sputnik V     Ministry of Health   \n",
       "1        Sputnik V     Ministry of Health   \n",
       "2  Pfizer/BioNTech  Government of Andorra   \n",
       "3  Pfizer/BioNTech  Government of Andorra   \n",
       "4  Pfizer/BioNTech  Government of Andorra   \n",
       "\n",
       "                                      source_website  \n",
       "0  https://www.aps.dz/regions/116777-blida-covid-...  \n",
       "1  https://www.aps.dz/regions/116777-blida-covid-...  \n",
       "2  https://www.govern.ad/comunicats/item/12379-se...  \n",
       "3  https://www.govern.ad/comunicats/item/12379-se...  \n",
       "4  https://www.govern.ad/comunicats/item/12379-se...  "
      ]
     },
     "execution_count": 4,
     "metadata": {},
     "output_type": "execute_result"
    }
   ],
   "source": [
    "#see what the data frame looks like\n",
    "head = vaccinationDF.limit(5)\n",
    "pd.DataFrame(head.collect(), columns = head.columns)"
   ]
  },
  {
   "cell_type": "markdown",
   "metadata": {},
   "source": [
    "## 3. Dataset Metadata Analysis"
   ]
  },
  {
   "cell_type": "markdown",
   "metadata": {},
   "source": [
    "### A. Display schema and size of the DataFrame"
   ]
  },
  {
   "cell_type": "code",
   "execution_count": 5,
   "metadata": {},
   "outputs": [
    {
     "name": "stdout",
     "output_type": "stream",
     "text": [
      "root\n",
      " |-- country: string (nullable = true)\n",
      " |-- iso_code: string (nullable = true)\n",
      " |-- date: string (nullable = true)\n",
      " |-- total_vaccinations: double (nullable = true)\n",
      " |-- people_vaccinated: double (nullable = true)\n",
      " |-- people_fully_vaccinated: double (nullable = true)\n",
      " |-- daily_vaccinations_raw: double (nullable = true)\n",
      " |-- daily_vaccinations: double (nullable = true)\n",
      " |-- total_vaccinations_per_hundred: double (nullable = true)\n",
      " |-- people_vaccinated_per_hundred: double (nullable = true)\n",
      " |-- people_fully_vaccinated_per_hundred: double (nullable = true)\n",
      " |-- daily_vaccinations_per_million: double (nullable = true)\n",
      " |-- vaccines: string (nullable = true)\n",
      " |-- source_name: string (nullable = true)\n",
      " |-- source_website: string (nullable = true)\n",
      "\n"
     ]
    },
    {
     "data": {
      "text/markdown": [
       "This DataFrame has **2605 rows**."
      ],
      "text/plain": [
       "<IPython.core.display.Markdown object>"
      ]
     },
     "metadata": {},
     "output_type": "display_data"
    }
   ],
   "source": [
    "vaccinationDF.printSchema()\n",
    "display(Markdown(\"This DataFrame has **%d rows**.\" % vaccinationDF.count()))"
   ]
  },
  {
   "cell_type": "markdown",
   "metadata": {},
   "source": [
    "### B. Get Two Random Row Samples from the Dataset"
   ]
  },
  {
   "cell_type": "code",
   "execution_count": 6,
   "metadata": {},
   "outputs": [
    {
     "data": {
      "text/plain": [
       "[Row(country='Algeria', iso_code='DZA', date='2021-01-29', total_vaccinations=0.0, people_vaccinated=None, people_fully_vaccinated=None, daily_vaccinations_raw=None, daily_vaccinations=None, total_vaccinations_per_hundred=0.0, people_vaccinated_per_hundred=None, people_fully_vaccinated_per_hundred=None, daily_vaccinations_per_million=None, vaccines='Sputnik V', source_name='Ministry of Health', source_website='https://www.aps.dz/regions/116777-blida-covid-19-trente-vaccines-au-matin-du-1er-jour-de-la-campagne'),\n",
       " Row(country='Andorra', iso_code='AND', date='2021-01-30', total_vaccinations=None, people_vaccinated=None, people_fully_vaccinated=None, daily_vaccinations_raw=None, daily_vaccinations=66.0, total_vaccinations_per_hundred=None, people_vaccinated_per_hundred=None, people_fully_vaccinated_per_hundred=None, daily_vaccinations_per_million=854.0, vaccines='Pfizer/BioNTech', source_name='Government of Andorra', source_website='https://www.govern.ad/comunicats/item/12379-se-supera-el-miler-de-persones-vacunes-contra-el-coronavirus-sars-cov-2-a-andorra')]"
      ]
     },
     "execution_count": 6,
     "metadata": {},
     "output_type": "execute_result"
    }
   ],
   "source": [
    "vaccinationDF.cache() # optimization to make the processing faster\n",
    "vaccinationDF.sample(False, 0.2).take(2)"
   ]
  },
  {
   "cell_type": "markdown",
   "metadata": {},
   "source": [
    "### C. Data Entities, Metrics and Dimensions\n",
    "\n",
    "These are the main elements of the dataset:\n",
    "\n",
    "* **Entities:** Country (main one which is measured - the facts), Date (dimension), Total Vaccinations\n",
    "* **Metrics:** Total Vaccinations, People Vaccinated, People Fully Vaccinated, Daily Vaccinations ... \n",
    "* **Dimensions:** Country, Date, Daily Vaccinations, Vaccines (Vaccine type)\n",
    "\n",
    "### D. Column categorization\n",
    "\n",
    "The following could be potential column categorizations:\n",
    "\n",
    "* **Information related columns:** *country*, *iso_code*, *date*, *source_name*, *source_website*\n",
    "* **Vaccination Count related columns:** *total_vaccinations*, *people_vaccinated*, *people_fully_vaccinated*, *daily_vaccinations_raw*, *daily_vaccinations*, *total_vaccinations_per_hundred*, *people_vaccinated_per_hundred*, *people_fully_vaccinated_per_hundred*, *daily_vaccinations_per_million*\n",
    "* **Type related columns:** *vaccines*"
   ]
  },
  {
   "cell_type": "markdown",
   "metadata": {},
   "source": [
    "## 4. Column Groups Basic Profiling"
   ]
  },
  {
   "cell_type": "markdown",
   "metadata": {},
   "source": [
    "### A. Information Related Columns"
   ]
  },
  {
   "cell_type": "code",
   "execution_count": 7,
   "metadata": {},
   "outputs": [
    {
     "name": "stdout",
     "output_type": "stream",
     "text": [
      "Summary of Information Related Columns: \n",
      "\n",
      "First Date: Row(min(date)='2020-12-13')\n",
      "\n",
      "Most Recent Date: Row(max(date)='2021-02-09')\n",
      "\n",
      "Checking amount of distinct values in columns Country, ISO Code, Date, Source Name, and Source Website:\n",
      "+-------+--------+----+-----------+--------------+\n",
      "|country|iso_code|date|source_name|source_website|\n",
      "+-------+--------+----+-----------+--------------+\n",
      "|     80|      75|  59|         48|            76|\n",
      "+-------+--------+----+-----------+--------------+\n",
      "\n",
      "Most and least frequent occurrences for Country, Date, and Source Name columns:\n"
     ]
    },
    {
     "data": {
      "text/markdown": [
       "\n",
       "| leastFreqCountry | mostFreqCountry | leastFreqDate | mostFreqDate | leastFreqSourceName | mostFreqSourceName |\n",
       "|----|----|----|----|----|----|\n",
       "| Saint Helena (1 occurrences) | Wales (58 occurrences) | 2020-12-14 (5 occurrences) | 2021-01-30 (69 occurrences) | Government of Guernsey (1 occurrences) | Ministry of Health (737 occurrences) |\n"
      ],
      "text/plain": [
       "<IPython.core.display.Markdown object>"
      ]
     },
     "metadata": {},
     "output_type": "display_data"
    },
    {
     "name": "stdout",
     "output_type": "stream",
     "text": [
      "Checking for nulls on columns Country, ISO Code, Date, Source Name, and Source Website:\n",
      "+-------+--------+----+-----------+--------------+\n",
      "|country|iso_code|date|source_name|source_website|\n",
      "+-------+--------+----+-----------+--------------+\n",
      "|      0|     241|   0|          0|             0|\n",
      "+-------+--------+----+-----------+--------------+\n",
      "\n"
     ]
    }
   ],
   "source": [
    "print (\"Summary of Information Related Columns: \")\n",
    "\n",
    "#change date column from string to date type\n",
    "vaccinationDF.withColumn(\"date\", to_date(vaccinationDF[\"date\"], 'yyyy-MM-dd'))\n",
    "\n",
    "#get the start date of the data\n",
    "start_date = vaccinationDF.select(min(\"date\")).first()\n",
    "print(\"\\nFirst Date: {}\".format(start_date))\n",
    "\n",
    "#get the end date of the data\n",
    "end_date = vaccinationDF.select(max(\"date\")).first()\n",
    "print(\"\\nMost Recent Date: {}\".format(end_date))\n",
    "\n",
    "#get the distinct value counts for info columns\n",
    "print(\"\\nChecking amount of distinct values in columns Country, ISO Code, Date, Source Name, and Source Website:\")\n",
    "vaccinationDF.select([countDistinct(c).alias(c) for c in [\"country\", \"iso_code\", \"date\", \"source_name\", \"source_website\"]]).show()\n",
    "\n",
    "\n",
    "#get the most and least frequent occurences for info columns\n",
    "print (\"Most and least frequent occurrences for Country, Date, and Source Name columns:\")\n",
    "CountryDF = vaccinationDF.groupBy(\"country\").agg(count(lit(1)).alias(\"Total\"))\n",
    "DateDF = vaccinationDF.groupBy(\"date\").agg(count(lit(1)).alias(\"Total\"))\n",
    "SourceNameDF = vaccinationDF.groupBy(\"source_name\").agg(count(lit(1)).alias(\"Total\"))\n",
    "\n",
    "leastFreqCountry    = CountryDF.orderBy(col(\"Total\").asc()).first()\n",
    "mostFreqCountry     = CountryDF.orderBy(col(\"Total\").desc()).first()\n",
    "leastFreqDate       = DateDF.orderBy(col(\"Total\").asc()).first()\n",
    "mostFreqDate        = DateDF.orderBy(col(\"Total\").desc()).first()\n",
    "leastFreqSourceName = SourceNameDF.orderBy(col(\"Total\").asc()).first()\n",
    "mostFreqSourceName  = SourceNameDF.orderBy(col(\"Total\").desc()).first()\n",
    "\n",
    "#display results nicely\n",
    "display(Markdown(\"\"\"\n",
    "| %s | %s | %s | %s | %s | %s |\n",
    "|----|----|----|----|----|----|\n",
    "| %s | %s | %s | %s | %s | %s |\n",
    "\"\"\" % (\"leastFreqCountry\", \"mostFreqCountry\", \"leastFreqDate\", \"mostFreqDate\", \"leastFreqSourceName\", \"mostFreqSourceName\",\\\n",
    "       \"%s (%d occurrences)\" % (leastFreqCountry[\"country\"], leastFreqCountry[\"Total\"]), \\\n",
    "       \"%s (%d occurrences)\" % (mostFreqCountry[\"country\"], mostFreqCountry[\"Total\"]), \\\n",
    "       \"%s (%d occurrences)\" % (leastFreqDate[\"date\"], leastFreqDate[\"Total\"]), \\\n",
    "       \"%s (%d occurrences)\" % (mostFreqDate[\"date\"], mostFreqDate[\"Total\"]), \\\n",
    "       \"%s (%d occurrences)\" % (leastFreqSourceName[\"source_name\"], leastFreqSourceName[\"Total\"]), \\\n",
    "       \"%s (%d occurrences)\" % (mostFreqSourceName[\"source_name\"], mostFreqSourceName[\"Total\"]))))\n",
    "\n",
    "\n",
    "#check for nulls in info columns\n",
    "print(\"Checking for nulls on columns Country, ISO Code, Date, Source Name, and Source Website:\")\n",
    "vaccinationDF.select([count(when(col(c).isNull(), c)).alias(c) for c in [\"country\", \"iso_code\", \"date\", \"source_name\", \"source_website\"]]).show()"
   ]
  },
  {
   "cell_type": "markdown",
   "metadata": {},
   "source": [
    "### B. Vaccination Count Related Columns"
   ]
  },
  {
   "cell_type": "code",
   "execution_count": 8,
   "metadata": {},
   "outputs": [
    {
     "name": "stdout",
     "output_type": "stream",
     "text": [
      "Summary of Vaccination Count Related Columns: \n"
     ]
    },
    {
     "data": {
      "text/html": [
       "<div>\n",
       "<style scoped>\n",
       "    .dataframe tbody tr th:only-of-type {\n",
       "        vertical-align: middle;\n",
       "    }\n",
       "\n",
       "    .dataframe tbody tr th {\n",
       "        vertical-align: top;\n",
       "    }\n",
       "\n",
       "    .dataframe thead th {\n",
       "        text-align: right;\n",
       "    }\n",
       "</style>\n",
       "<table border=\"1\" class=\"dataframe\">\n",
       "  <thead>\n",
       "    <tr style=\"text-align: right;\">\n",
       "      <th></th>\n",
       "      <th>summary</th>\n",
       "      <th>total_vaccinations</th>\n",
       "      <th>people_vaccinated</th>\n",
       "      <th>people_fully_vaccinated</th>\n",
       "      <th>daily_vaccinations_raw</th>\n",
       "      <th>daily_vaccinations</th>\n",
       "      <th>total_vaccinations_per_hundred</th>\n",
       "      <th>people_vaccinated_per_hundred</th>\n",
       "      <th>people_fully_vaccinated_per_hundred</th>\n",
       "      <th>daily_vaccinations_per_million</th>\n",
       "    </tr>\n",
       "  </thead>\n",
       "  <tbody>\n",
       "    <tr>\n",
       "      <th>0</th>\n",
       "      <td>count</td>\n",
       "      <td>1712</td>\n",
       "      <td>1388</td>\n",
       "      <td>845</td>\n",
       "      <td>1409</td>\n",
       "      <td>2502</td>\n",
       "      <td>1712</td>\n",
       "      <td>1388</td>\n",
       "      <td>845</td>\n",
       "      <td>2502</td>\n",
       "    </tr>\n",
       "    <tr>\n",
       "      <th>1</th>\n",
       "      <td>mean</td>\n",
       "      <td>1217798.1028037383</td>\n",
       "      <td>1035908.0489913544</td>\n",
       "      <td>277274.8852071006</td>\n",
       "      <td>68777.90276792052</td>\n",
       "      <td>57449.12909672262</td>\n",
       "      <td>4.732587616822436</td>\n",
       "      <td>4.26482708933717</td>\n",
       "      <td>1.1469349112426037</td>\n",
       "      <td>2018.8077537969625</td>\n",
       "    </tr>\n",
       "    <tr>\n",
       "      <th>2</th>\n",
       "      <td>stddev</td>\n",
       "      <td>3997054.566313126</td>\n",
       "      <td>3339963.5267056557</td>\n",
       "      <td>957876.7330884596</td>\n",
       "      <td>191047.7842161158</td>\n",
       "      <td>175258.24304659406</td>\n",
       "      <td>9.006691234200698</td>\n",
       "      <td>7.307836608007226</td>\n",
       "      <td>3.2438301189404393</td>\n",
       "      <td>3575.173054841261</td>\n",
       "    </tr>\n",
       "    <tr>\n",
       "      <th>3</th>\n",
       "      <td>min</td>\n",
       "      <td>0.0</td>\n",
       "      <td>0.0</td>\n",
       "      <td>1.0</td>\n",
       "      <td>0.0</td>\n",
       "      <td>1.0</td>\n",
       "      <td>0.0</td>\n",
       "      <td>0.0</td>\n",
       "      <td>0.0</td>\n",
       "      <td>0.0</td>\n",
       "    </tr>\n",
       "    <tr>\n",
       "      <th>4</th>\n",
       "      <td>25%</td>\n",
       "      <td>26758.0</td>\n",
       "      <td>24998.0</td>\n",
       "      <td>5237.0</td>\n",
       "      <td>2082.0</td>\n",
       "      <td>1328.0</td>\n",
       "      <td>0.48</td>\n",
       "      <td>0.49</td>\n",
       "      <td>0.07</td>\n",
       "      <td>346.0</td>\n",
       "    </tr>\n",
       "    <tr>\n",
       "      <th>5</th>\n",
       "      <td>50%</td>\n",
       "      <td>150752.0</td>\n",
       "      <td>138436.0</td>\n",
       "      <td>22472.0</td>\n",
       "      <td>10577.0</td>\n",
       "      <td>6467.0</td>\n",
       "      <td>1.82</td>\n",
       "      <td>1.92</td>\n",
       "      <td>0.37</td>\n",
       "      <td>947.0</td>\n",
       "    </tr>\n",
       "    <tr>\n",
       "      <th>6</th>\n",
       "      <td>75%</td>\n",
       "      <td>645105.0</td>\n",
       "      <td>556997.0</td>\n",
       "      <td>106259.0</td>\n",
       "      <td>54445.0</td>\n",
       "      <td>31246.0</td>\n",
       "      <td>4.03</td>\n",
       "      <td>3.34</td>\n",
       "      <td>0.88</td>\n",
       "      <td>1696.0</td>\n",
       "    </tr>\n",
       "    <tr>\n",
       "      <th>7</th>\n",
       "      <td>max</td>\n",
       "      <td>4.320619E7</td>\n",
       "      <td>3.2867213E7</td>\n",
       "      <td>9840429.0</td>\n",
       "      <td>2218752.0</td>\n",
       "      <td>1916190.0</td>\n",
       "      <td>67.38</td>\n",
       "      <td>41.68</td>\n",
       "      <td>25.69</td>\n",
       "      <td>30869.0</td>\n",
       "    </tr>\n",
       "  </tbody>\n",
       "</table>\n",
       "</div>"
      ],
      "text/plain": [
       "  summary  total_vaccinations   people_vaccinated people_fully_vaccinated  \\\n",
       "0   count                1712                1388                     845   \n",
       "1    mean  1217798.1028037383  1035908.0489913544       277274.8852071006   \n",
       "2  stddev   3997054.566313126  3339963.5267056557       957876.7330884596   \n",
       "3     min                 0.0                 0.0                     1.0   \n",
       "4     25%             26758.0             24998.0                  5237.0   \n",
       "5     50%            150752.0            138436.0                 22472.0   \n",
       "6     75%            645105.0            556997.0                106259.0   \n",
       "7     max          4.320619E7         3.2867213E7               9840429.0   \n",
       "\n",
       "  daily_vaccinations_raw  daily_vaccinations total_vaccinations_per_hundred  \\\n",
       "0                   1409                2502                           1712   \n",
       "1      68777.90276792052   57449.12909672262              4.732587616822436   \n",
       "2      191047.7842161158  175258.24304659406              9.006691234200698   \n",
       "3                    0.0                 1.0                            0.0   \n",
       "4                 2082.0              1328.0                           0.48   \n",
       "5                10577.0              6467.0                           1.82   \n",
       "6                54445.0             31246.0                           4.03   \n",
       "7              2218752.0           1916190.0                          67.38   \n",
       "\n",
       "  people_vaccinated_per_hundred people_fully_vaccinated_per_hundred  \\\n",
       "0                          1388                                 845   \n",
       "1              4.26482708933717                  1.1469349112426037   \n",
       "2             7.307836608007226                  3.2438301189404393   \n",
       "3                           0.0                                 0.0   \n",
       "4                          0.49                                0.07   \n",
       "5                          1.92                                0.37   \n",
       "6                          3.34                                0.88   \n",
       "7                         41.68                               25.69   \n",
       "\n",
       "  daily_vaccinations_per_million  \n",
       "0                           2502  \n",
       "1             2018.8077537969625  \n",
       "2              3575.173054841261  \n",
       "3                            0.0  \n",
       "4                          346.0  \n",
       "5                          947.0  \n",
       "6                         1696.0  \n",
       "7                        30869.0  "
      ]
     },
     "metadata": {},
     "output_type": "display_data"
    },
    {
     "name": "stdout",
     "output_type": "stream",
     "text": [
      "\n",
      "Checking for nulls Vaccination Count Columns:\n"
     ]
    },
    {
     "data": {
      "text/html": [
       "<div>\n",
       "<style scoped>\n",
       "    .dataframe tbody tr th:only-of-type {\n",
       "        vertical-align: middle;\n",
       "    }\n",
       "\n",
       "    .dataframe tbody tr th {\n",
       "        vertical-align: top;\n",
       "    }\n",
       "\n",
       "    .dataframe thead th {\n",
       "        text-align: right;\n",
       "    }\n",
       "</style>\n",
       "<table border=\"1\" class=\"dataframe\">\n",
       "  <thead>\n",
       "    <tr style=\"text-align: right;\">\n",
       "      <th></th>\n",
       "      <th>total_vaccinations</th>\n",
       "      <th>people_vaccinated</th>\n",
       "      <th>people_fully_vaccinated</th>\n",
       "      <th>daily_vaccinations_raw</th>\n",
       "      <th>daily_vaccinations</th>\n",
       "      <th>total_vaccinations_per_hundred</th>\n",
       "      <th>people_vaccinated_per_hundred</th>\n",
       "      <th>people_fully_vaccinated_per_hundred</th>\n",
       "      <th>daily_vaccinations_per_million</th>\n",
       "    </tr>\n",
       "  </thead>\n",
       "  <tbody>\n",
       "    <tr>\n",
       "      <th>0</th>\n",
       "      <td>893</td>\n",
       "      <td>1217</td>\n",
       "      <td>1760</td>\n",
       "      <td>1196</td>\n",
       "      <td>103</td>\n",
       "      <td>893</td>\n",
       "      <td>1217</td>\n",
       "      <td>1760</td>\n",
       "      <td>103</td>\n",
       "    </tr>\n",
       "  </tbody>\n",
       "</table>\n",
       "</div>"
      ],
      "text/plain": [
       "   total_vaccinations  people_vaccinated  people_fully_vaccinated  \\\n",
       "0                 893               1217                     1760   \n",
       "\n",
       "   daily_vaccinations_raw  daily_vaccinations  total_vaccinations_per_hundred  \\\n",
       "0                    1196                 103                             893   \n",
       "\n",
       "   people_vaccinated_per_hundred  people_fully_vaccinated_per_hundred  \\\n",
       "0                           1217                                 1760   \n",
       "\n",
       "   daily_vaccinations_per_million  \n",
       "0                             103  "
      ]
     },
     "metadata": {},
     "output_type": "display_data"
    },
    {
     "name": "stdout",
     "output_type": "stream",
     "text": [
      "\n",
      "Checking for amount of distinct values on Vaccination Count Columns:\n"
     ]
    },
    {
     "data": {
      "text/html": [
       "<div>\n",
       "<style scoped>\n",
       "    .dataframe tbody tr th:only-of-type {\n",
       "        vertical-align: middle;\n",
       "    }\n",
       "\n",
       "    .dataframe tbody tr th {\n",
       "        vertical-align: top;\n",
       "    }\n",
       "\n",
       "    .dataframe thead th {\n",
       "        text-align: right;\n",
       "    }\n",
       "</style>\n",
       "<table border=\"1\" class=\"dataframe\">\n",
       "  <thead>\n",
       "    <tr style=\"text-align: right;\">\n",
       "      <th></th>\n",
       "      <th>total_vaccinations</th>\n",
       "      <th>people_vaccinated</th>\n",
       "      <th>people_fully_vaccinated</th>\n",
       "      <th>daily_vaccinations_raw</th>\n",
       "      <th>daily_vaccinations</th>\n",
       "      <th>total_vaccinations_per_hundred</th>\n",
       "      <th>people_vaccinated_per_hundred</th>\n",
       "      <th>people_fully_vaccinated_per_hundred</th>\n",
       "      <th>daily_vaccinations_per_million</th>\n",
       "    </tr>\n",
       "  </thead>\n",
       "  <tbody>\n",
       "    <tr>\n",
       "      <th>0</th>\n",
       "      <td>1674</td>\n",
       "      <td>1361</td>\n",
       "      <td>800</td>\n",
       "      <td>1353</td>\n",
       "      <td>2065</td>\n",
       "      <td>735</td>\n",
       "      <td>617</td>\n",
       "      <td>220</td>\n",
       "      <td>1560</td>\n",
       "    </tr>\n",
       "  </tbody>\n",
       "</table>\n",
       "</div>"
      ],
      "text/plain": [
       "   total_vaccinations  people_vaccinated  people_fully_vaccinated  \\\n",
       "0                1674               1361                      800   \n",
       "\n",
       "   daily_vaccinations_raw  daily_vaccinations  total_vaccinations_per_hundred  \\\n",
       "0                    1353                2065                             735   \n",
       "\n",
       "   people_vaccinated_per_hundred  people_fully_vaccinated_per_hundred  \\\n",
       "0                            617                                  220   \n",
       "\n",
       "   daily_vaccinations_per_million  \n",
       "0                            1560  "
      ]
     },
     "metadata": {},
     "output_type": "display_data"
    }
   ],
   "source": [
    "#print summary statistics for vaccination count columns\n",
    "print(\"Summary of Vaccination Count Related Columns: \")\n",
    "summary_vacc_cols = vaccinationDF.select(\"total_vaccinations\", \"people_vaccinated\", \"people_fully_vaccinated\", \"daily_vaccinations_raw\", \"daily_vaccinations\", \"total_vaccinations_per_hundred\", \"people_vaccinated_per_hundred\", \"people_fully_vaccinated_per_hundred\", \"daily_vaccinations_per_million\").summary()\n",
    "display(pd.DataFrame(summary_vacc_cols.collect(), columns = summary_vacc_cols.columns))\n",
    "\n",
    "#check for count of null values per column\n",
    "print(\"\\nChecking for nulls Vaccination Count Columns:\")\n",
    "nulls_vacc_counts = vaccinationDF.select([count(when(col(c).isNull(), c)).alias(c) for c in [\"total_vaccinations\", \"people_vaccinated\", \"people_fully_vaccinated\", \"daily_vaccinations_raw\", \"daily_vaccinations\", \"total_vaccinations_per_hundred\", \"people_vaccinated_per_hundred\", \"people_fully_vaccinated_per_hundred\", \"daily_vaccinations_per_million\"]])\n",
    "display(pd.DataFrame(nulls_vacc_counts.collect(), columns = nulls_vacc_counts.columns))\n",
    "\n",
    "#check for count of distinct values per column\n",
    "print(\"\\nChecking for amount of distinct values on Vaccination Count Columns:\")\n",
    "distinct_vacc_counts = vaccinationDF.select([countDistinct(c).alias(c) for c in [\"total_vaccinations\", \"people_vaccinated\", \"people_fully_vaccinated\", \"daily_vaccinations_raw\", \"daily_vaccinations\", \"total_vaccinations_per_hundred\", \"people_vaccinated_per_hundred\", \"people_fully_vaccinated_per_hundred\", \"daily_vaccinations_per_million\"]])\n",
    "display(pd.DataFrame(distinct_vacc_counts.collect(), columns = distinct_vacc_counts.columns))"
   ]
  },
  {
   "cell_type": "code",
   "execution_count": 9,
   "metadata": {},
   "outputs": [],
   "source": [
    "# create new df with ordered row numbers (according to date) per country\n",
    "windowSpec = Window.partitionBy(\"country\").orderBy(\"date\")\n",
    "vaccinationDF = vaccinationDF.withColumn(\"row_number\",row_number().over(windowSpec))"
   ]
  },
  {
   "cell_type": "code",
   "execution_count": 10,
   "metadata": {},
   "outputs": [],
   "source": [
    "# replace null with 0 for first row of country\n",
    "df = vaccinationDF\n",
    "newDf = df.withColumn(\"total_vaccinations\", \\\n",
    "              when(((df[\"row_number\"] == 1) & (df[\"total_vaccinations\"].isNull())), 0)\\\n",
    "                      .otherwise(df[\"total_vaccinations\"]))\n",
    "\n",
    "# otherwise replace null with the previous good value\n",
    "vaccinationDF_processed = newDf.withColumn(\"total_vaccinations\", last('total_vaccinations', True)\\\n",
    "                                           .over(Window.partitionBy('country').orderBy('date')\\\n",
    "                                                 .rowsBetween(-sys.maxsize, 0)))"
   ]
  },
  {
   "cell_type": "code",
   "execution_count": 12,
   "metadata": {},
   "outputs": [],
   "source": [
    "# replace nulls of people_fully_vaccinated \n",
    "# replace first row nulls with 0 \n",
    "df = vaccinationDF_processed\n",
    "newDf = df.withColumn(\"people_fully_vaccinated\", \\\n",
    "              when(((df[\"row_number\"] == 1) & (df[\"people_fully_vaccinated\"].isNull())), 0)\\\n",
    "                      .otherwise(df[\"people_fully_vaccinated\"]))\n",
    "\n",
    "# otherwise replace null with the previous good value\n",
    "vaccinationDF_processed = newDf.withColumn(\"people_fully_vaccinated\", last(\"people_fully_vaccinated\", True)\\\n",
    "                                           .over(Window.partitionBy('country').orderBy('date')\\\n",
    "                                                 .rowsBetween(-sys.maxsize, 0)))"
   ]
  },
  {
   "cell_type": "code",
   "execution_count": 13,
   "metadata": {},
   "outputs": [],
   "source": [
    "# replace nulls of people_fully_vaccinated_per_hundred\n",
    "df = vaccinationDF_processed\n",
    "newDf = df.withColumn(\"people_fully_vaccinated_per_hundred\", \\\n",
    "              when(((df[\"row_number\"] == 1) & (df[\"people_fully_vaccinated_per_hundred\"].isNull())), 0)\\\n",
    "                      .otherwise(df[\"people_fully_vaccinated_per_hundred\"]))\n",
    "\n",
    "# otherwise replace null with the previous good value\n",
    "vaccinationDF_processed = newDf.withColumn(\"people_fully_vaccinated_per_hundred\", last(\"people_fully_vaccinated_per_hundred\", True)\\\n",
    "                                           .over(Window.partitionBy('country').orderBy('date')\\\n",
    "                                                 .rowsBetween(-sys.maxsize, 0)))"
   ]
  },
  {
   "cell_type": "code",
   "execution_count": 14,
   "metadata": {},
   "outputs": [],
   "source": [
    "# impute nulls in daily vaccination column with 0's \n",
    "vaccinationDF_processed = vaccinationDF_processed\\\n",
    "                            .withColumn(\"daily_vaccinations\", when(df[\"daily_vaccinations\"].isNull(), 0)\\\n",
    "                            .otherwise(df[\"daily_vaccinations\"]))"
   ]
  },
  {
   "cell_type": "code",
   "execution_count": 15,
   "metadata": {},
   "outputs": [
    {
     "name": "stdout",
     "output_type": "stream",
     "text": [
      "\n",
      "Checking for nulls Vaccination Count Columns:\n"
     ]
    },
    {
     "data": {
      "text/html": [
       "<div>\n",
       "<style scoped>\n",
       "    .dataframe tbody tr th:only-of-type {\n",
       "        vertical-align: middle;\n",
       "    }\n",
       "\n",
       "    .dataframe tbody tr th {\n",
       "        vertical-align: top;\n",
       "    }\n",
       "\n",
       "    .dataframe thead th {\n",
       "        text-align: right;\n",
       "    }\n",
       "</style>\n",
       "<table border=\"1\" class=\"dataframe\">\n",
       "  <thead>\n",
       "    <tr style=\"text-align: right;\">\n",
       "      <th></th>\n",
       "      <th>total_vaccinations</th>\n",
       "      <th>people_fully_vaccinated</th>\n",
       "      <th>daily_vaccinations</th>\n",
       "      <th>people_fully_vaccinated_per_hundred</th>\n",
       "    </tr>\n",
       "  </thead>\n",
       "  <tbody>\n",
       "    <tr>\n",
       "      <th>0</th>\n",
       "      <td>0</td>\n",
       "      <td>0</td>\n",
       "      <td>0</td>\n",
       "      <td>0</td>\n",
       "    </tr>\n",
       "  </tbody>\n",
       "</table>\n",
       "</div>"
      ],
      "text/plain": [
       "   total_vaccinations  people_fully_vaccinated  daily_vaccinations  \\\n",
       "0                   0                        0                   0   \n",
       "\n",
       "   people_fully_vaccinated_per_hundred  \n",
       "0                                    0  "
      ]
     },
     "metadata": {},
     "output_type": "display_data"
    }
   ],
   "source": [
    "#check for count of null values per column that was manipulated\n",
    "print(\"\\nChecking for nulls Vaccination Count Columns:\")\n",
    "nulls_vacc_counts = vaccinationDF_processed.select([count(when(col(c).isNull(), c)).alias(c) for c in [\"total_vaccinations\", \"people_fully_vaccinated\", \"daily_vaccinations\", \"people_fully_vaccinated_per_hundred\"]])\n",
    "display(pd.DataFrame(nulls_vacc_counts.collect(), columns = nulls_vacc_counts.columns))\n"
   ]
  },
  {
   "cell_type": "code",
   "execution_count": 16,
   "metadata": {},
   "outputs": [
    {
     "data": {
      "text/plain": [
       "DataFrame[country: string, iso_code: string, date: string, total_vaccinations: double, people_vaccinated: double, people_fully_vaccinated: double, daily_vaccinations: double, people_fully_vaccinated_per_hundred: double, vaccines: string, source_name: string, source_website: string, row_number: int]"
      ]
     },
     "execution_count": 16,
     "metadata": {},
     "output_type": "execute_result"
    }
   ],
   "source": [
    "# remove other columns because there are too many nulls / can be computed again rather than imputing all null values\n",
    "reduce(DataFrame.drop, [\"daily_vaccinations_raw\", \"total_vaccinations_per_hundred\", \"people_vaccinated_per_hundred\", \"daily_vaccinations_per_million\"], vaccinationDF_processed)\n"
   ]
  },
  {
   "cell_type": "markdown",
   "metadata": {},
   "source": [
    "### C. Type Related Columns"
   ]
  },
  {
   "cell_type": "code",
   "execution_count": 17,
   "metadata": {},
   "outputs": [
    {
     "name": "stdout",
     "output_type": "stream",
     "text": [
      "\n",
      "Unique Vaccine Combinations: \n",
      "+----------------------------------------------------------------------------------+\n",
      "|vaccines                                                                          |\n",
      "+----------------------------------------------------------------------------------+\n",
      "|Oxford/AstraZeneca                                                                |\n",
      "|Pfizer/BioNTech, Sinopharm/Beijing, Sputnik V                                     |\n",
      "|Sinovac                                                                           |\n",
      "|Oxford/AstraZeneca, Sinopharm/Beijing                                             |\n",
      "|Sinopharm/Beijing, Sinopharm/Wuhan, Sinovac                                       |\n",
      "|Moderna, Oxford/AstraZeneca, Pfizer/BioNTech                                      |\n",
      "|Oxford/AstraZeneca, Pfizer/BioNTech, Sinopharm/Beijing, Sinopharm/Wuhan, Sputnik V|\n",
      "|Sputnik V                                                                         |\n",
      "|Moderna, Pfizer/BioNTech                                                          |\n",
      "|Pfizer/BioNTech                                                                   |\n",
      "|Oxford/AstraZeneca, Sinovac                                                       |\n",
      "|Oxford/AstraZeneca, Pfizer/BioNTech                                               |\n",
      "|Covaxin, Oxford/AstraZeneca                                                       |\n",
      "|Pfizer/BioNTech, Sinopharm/Beijing                                                |\n",
      "|Pfizer/BioNTech, Sinovac                                                          |\n",
      "|Sinopharm/Beijing                                                                 |\n",
      "+----------------------------------------------------------------------------------+\n",
      "\n",
      "Least Frequently Used Vaccine / Vaccine Combo: \n",
      "Sinopharm/Beijing\n",
      "Total Uses: 7\n",
      "\n",
      "Most Frequently Used Vaccine / Vaccine Combo: \n",
      "Moderna, Oxford/AstraZeneca, Pfizer/BioNTech\n",
      "Total Uses: 703\n",
      "\n",
      "Checking for nulls Vaccination Count Columns:\n"
     ]
    },
    {
     "data": {
      "text/html": [
       "<div>\n",
       "<style scoped>\n",
       "    .dataframe tbody tr th:only-of-type {\n",
       "        vertical-align: middle;\n",
       "    }\n",
       "\n",
       "    .dataframe tbody tr th {\n",
       "        vertical-align: top;\n",
       "    }\n",
       "\n",
       "    .dataframe thead th {\n",
       "        text-align: right;\n",
       "    }\n",
       "</style>\n",
       "<table border=\"1\" class=\"dataframe\">\n",
       "  <thead>\n",
       "    <tr style=\"text-align: right;\">\n",
       "      <th></th>\n",
       "      <th>vaccines</th>\n",
       "    </tr>\n",
       "  </thead>\n",
       "  <tbody>\n",
       "    <tr>\n",
       "      <th>0</th>\n",
       "      <td>0</td>\n",
       "    </tr>\n",
       "  </tbody>\n",
       "</table>\n",
       "</div>"
      ],
      "text/plain": [
       "   vaccines\n",
       "0         0"
      ]
     },
     "metadata": {},
     "output_type": "display_data"
    }
   ],
   "source": [
    "#find unique combinations of vaccines\n",
    "print(\"\\nUnique Vaccine Combinations: \")\n",
    "vaccines = vaccinationDF.select(\"vaccines\").distinct().show(truncate = False)\n",
    "\n",
    "#get most and least frequently used vaccines\n",
    "vaccineDF = vaccinationDF.groupBy(\"vaccines\").agg(count(lit(1)).alias(\"Total\"))\n",
    "leastFreqVacc = vaccineDF.orderBy(col(\"Total\").asc()).first()\n",
    "mostFreqVacc = vaccineDF.orderBy(col(\"Total\").desc()).first()\n",
    "\n",
    "#print results of most & least frequently used vaccines\n",
    "print(\"Least Frequently Used Vaccine / Vaccine Combo: \")\n",
    "print(leastFreqVacc[\"vaccines\"])\n",
    "print(\"Total Uses: {}\".format(leastFreqVacc[\"Total\"]))\n",
    "\n",
    "print(\"\\nMost Frequently Used Vaccine / Vaccine Combo: \")\n",
    "print(mostFreqVacc[\"vaccines\"])\n",
    "print(\"Total Uses: {}\".format(mostFreqVacc[\"Total\"]))\n",
    "\n",
    "#check for nulls\n",
    "print(\"\\nChecking for nulls Vaccination Count Columns:\")\n",
    "nulls_vacc_type = vaccinationDF.select([count(when(col(c).isNull(), c)).alias(c) for c in [\"vaccines\"]])\n",
    "display(pd.DataFrame(nulls_vacc_type.collect(), columns = nulls_vacc_type.columns))"
   ]
  },
  {
   "cell_type": "markdown",
   "metadata": {},
   "source": [
    "# Business Questions\n",
    "\n",
    "1. In which countries has the vaccination program the most effective so far? And which countries are performing worst in vaccinating their population?\n",
    "\n",
    "2. What is the per country and worldwide progress of the vaccinations?\n",
    "\n",
    "3. Which vaccine type has been used the most?\n",
    "\n",
    "4.\tAt this rate, when will 70% of the population be immune (herd immunity)?"
   ]
  },
  {
   "cell_type": "markdown",
   "metadata": {},
   "source": [
    "Before beginning to answer the business questions, we will enrich the dataset with up to date information on the population of each country:"
   ]
  },
  {
   "cell_type": "code",
   "execution_count": 48,
   "metadata": {},
   "outputs": [],
   "source": [
    "#import population dataset\n",
    "populationDF = spark.read \\\n",
    "                 .option(\"inferSchema\", \"true\") \\\n",
    "                 .option(\"header\", \"true\") \\\n",
    "                 .csv(\"population_by_country_2020.csv\")"
   ]
  },
  {
   "cell_type": "code",
   "execution_count": 49,
   "metadata": {},
   "outputs": [
    {
     "name": "stdout",
     "output_type": "stream",
     "text": [
      "+-------------+-------------+\n",
      "|      country|   population|\n",
      "+-------------+-------------+\n",
      "|        China|1.440297825E9|\n",
      "|        India|1.382345085E9|\n",
      "|United States|  3.3134105E8|\n",
      "|    Indonesia| 2.74021604E8|\n",
      "|     Pakistan| 2.21612785E8|\n",
      "+-------------+-------------+\n",
      "\n"
     ]
    }
   ],
   "source": [
    "#keep only 2 necessary columns\n",
    "populationDF = populationDF.select([\"Country (or dependency)\", \"Population (2020)\"]).withColumnRenamed(\"Country (or dependency)\", \"country\")\n",
    "populationDF = populationDF.withColumnRenamed(\"Population (2020)\", \"population\")\n",
    "\n",
    "populationDF.limit(5).show()"
   ]
  },
  {
   "cell_type": "code",
   "execution_count": 50,
   "metadata": {},
   "outputs": [],
   "source": [
    "#join population with vaccination df \n",
    "vaccinationDF_processed_with_pop = vaccinationDF_processed.join(populationDF, on=['country'], how='left')"
   ]
  },
  {
   "cell_type": "code",
   "execution_count": 51,
   "metadata": {},
   "outputs": [
    {
     "data": {
      "text/plain": [
       "0"
      ]
     },
     "execution_count": 51,
     "metadata": {},
     "output_type": "execute_result"
    }
   ],
   "source": [
    "vaccinationDF_processed_with_pop.where(col(\"population\").isNull()).count()"
   ]
  },
  {
   "cell_type": "markdown",
   "metadata": {},
   "source": [
    "As we can see, no population values have nulls, so we have good data to create more columns of information!"
   ]
  },
  {
   "cell_type": "code",
   "execution_count": 81,
   "metadata": {},
   "outputs": [],
   "source": [
    "# create UDF to calculate percentage of people vaccinated \n",
    "def vac_percentage(people_fully_vaccinated, population):\n",
    "    vaccinated_percentage = ((people_fully_vaccinated/population)*100)\n",
    "    return vaccinated_percentage"
   ]
  },
  {
   "cell_type": "code",
   "execution_count": 78,
   "metadata": {},
   "outputs": [
    {
     "name": "stdout",
     "output_type": "stream",
     "text": [
      "+-------+--------+----------+------------------+-----------------+-----------------------+----------------------+------------------+------------------------------+-----------------------------+-----------------------------------+------------------------------+---------+--------------------+--------------------+----------+------------+---------------------+\n",
      "|country|iso_code|      date|total_vaccinations|people_vaccinated|people_fully_vaccinated|daily_vaccinations_raw|daily_vaccinations|total_vaccinations_per_hundred|people_vaccinated_per_hundred|people_fully_vaccinated_per_hundred|daily_vaccinations_per_million| vaccines|         source_name|      source_website|row_number|  population|vaccinated_percentage|\n",
      "+-------+--------+----------+------------------+-----------------+-----------------------+----------------------+------------------+------------------------------+-----------------------------+-----------------------------------+------------------------------+---------+--------------------+--------------------+----------+------------+---------------------+\n",
      "| Russia|     RUS|2020-12-15|           28500.0|             null|                    0.0|                  null|               0.0|                          0.02|                         null|                                0.0|                          null|Sputnik V|Russian Direct In...|https://twitter.c...|         1|1.45945524E8|                  0.0|\n",
      "| Russia|     RUS|2020-12-16|           28500.0|             null|                    0.0|                  null|            3357.0|                          null|                         null|                                0.0|                          23.0|Sputnik V|Russian Direct In...|https://twitter.c...|         2|1.45945524E8|                  0.0|\n",
      "| Russia|     RUS|2020-12-17|           28500.0|             null|                    0.0|                  null|            3357.0|                          null|                         null|                                0.0|                          23.0|Sputnik V|Russian Direct In...|https://twitter.c...|         3|1.45945524E8|                  0.0|\n",
      "| Russia|     RUS|2020-12-18|           28500.0|             null|                    0.0|                  null|            3357.0|                          null|                         null|                                0.0|                          23.0|Sputnik V|Russian Direct In...|https://twitter.c...|         4|1.45945524E8|                  0.0|\n",
      "| Russia|     RUS|2020-12-19|           28500.0|             null|                    0.0|                  null|            3357.0|                          null|                         null|                                0.0|                          23.0|Sputnik V|Russian Direct In...|https://twitter.c...|         5|1.45945524E8|                  0.0|\n",
      "+-------+--------+----------+------------------+-----------------+-----------------------+----------------------+------------------+------------------------------+-----------------------------+-----------------------------------+------------------------------+---------+--------------------+--------------------+----------+------------+---------------------+\n",
      "\n"
     ]
    }
   ],
   "source": [
    "# divide people fully vaccinated by population\n",
    "vaccinationDF_percent_pop = vaccinationDF_processed_with_pop.withColumn(\"vaccinated_percentage\", vac_percentage_udf(col(\"people_fully_vaccinated\"), col(\"population\")).cast(\"double\"))\n",
    "\n",
    "vaccinationDF_percent_pop.limit(5).show()"
   ]
  },
  {
   "cell_type": "markdown",
   "metadata": {},
   "source": [
    "### Question 1"
   ]
  },
  {
   "cell_type": "code",
   "execution_count": 82,
   "metadata": {},
   "outputs": [
    {
     "name": "stdout",
     "output_type": "stream",
     "text": [
      "Top 10 Countries with Highest Total Vaccinations: \n",
      "+--------------------+---------------+\n",
      "|             country|curr_total_vacc|\n",
      "+--------------------+---------------+\n",
      "|       United States|     4.320619E7|\n",
      "|               China|        4.052E7|\n",
      "|      United Kingdom|    1.3162878E7|\n",
      "|             England|    1.1245053E7|\n",
      "|               India|      6611561.0|\n",
      "|              Israel|      5831820.0|\n",
      "|United Arab Emirates|      4527144.0|\n",
      "|              Brazil|      3820207.0|\n",
      "|             Germany|      3369433.0|\n",
      "|              Turkey|      2732709.0|\n",
      "+--------------------+---------------+\n",
      "\n",
      "Top 10 Countries with Lowest Total Vaccinations: \n",
      "+--------------+---------------+\n",
      "|       country|curr_total_vacc|\n",
      "+--------------+---------------+\n",
      "|       Algeria|           30.0|\n",
      "|  Saint Helena|          107.0|\n",
      "| Liechtenstein|          833.0|\n",
      "|       Andorra|         1036.0|\n",
      "|         Egypt|         1315.0|\n",
      "|        Monaco|         2400.0|\n",
      "|     Greenland|         2584.0|\n",
      "|       Bolivia|         3560.0|\n",
      "|       Myanmar|         3800.0|\n",
      "|Faeroe Islands|         4783.0|\n",
      "+--------------+---------------+\n",
      "\n",
      "Top 10 Countries with Highest Amount of People Fully Vaccinated: \n",
      "+--------------+--------------+\n",
      "|       country|curr_full_vacc|\n",
      "+--------------+--------------+\n",
      "| United States|     9840429.0|\n",
      "|        Israel|     2223900.0|\n",
      "|         Italy|     1214139.0|\n",
      "|       Germany|     1024631.0|\n",
      "|         Spain|      838782.0|\n",
      "|United Kingdom|      516392.0|\n",
      "|        Poland|      482146.0|\n",
      "|       England|      473055.0|\n",
      "|        France|      294120.0|\n",
      "|       Romania|      263213.0|\n",
      "+--------------+--------------+\n",
      "\n",
      "Top 10 Countries with Lowest Amount of People Fully Vaccinationed: \n",
      "+---------------+--------------+\n",
      "|        country|curr_full_vacc|\n",
      "+---------------+--------------+\n",
      "|          China|           0.0|\n",
      "|         Monaco|           0.0|\n",
      "|          India|           0.0|\n",
      "|         Turkey|           0.0|\n",
      "|         Kuwait|           0.0|\n",
      "|   Saint Helena|           0.0|\n",
      "|Northern Cyprus|           0.0|\n",
      "|        Algeria|           0.0|\n",
      "|        Myanmar|           0.0|\n",
      "|  Liechtenstein|           0.0|\n",
      "+---------------+--------------+\n",
      "\n",
      "Top 10 Countries with Highest Total Vaccinations per 100: \n",
      "+--------------------+-----------------------+\n",
      "|             country|curr_total_vacc_per_100|\n",
      "+--------------------+-----------------------+\n",
      "|              Israel|                  25.69|\n",
      "|           Gibraltar|                  18.22|\n",
      "|      Cayman Islands|                   7.26|\n",
      "|          Seychelles|                   4.05|\n",
      "|              Jersey|                    3.1|\n",
      "|         Isle of Man|                   3.01|\n",
      "|       United States|                   2.94|\n",
      "|             Denmark|                   2.54|\n",
      "|United Arab Emirates|                   2.53|\n",
      "|               Malta|                    2.5|\n",
      "+--------------------+-----------------------+\n",
      "\n",
      "Top 10 Countries with Lowest Total Vaccinations per 100: \n",
      "+---------------+-----------------------+\n",
      "|        country|curr_total_vacc_per_100|\n",
      "+---------------+-----------------------+\n",
      "|          China|                    0.0|\n",
      "|        Morocco|                    0.0|\n",
      "|          India|                    0.0|\n",
      "|         Russia|                    0.0|\n",
      "|         Kuwait|                    0.0|\n",
      "|        Algeria|                    0.0|\n",
      "|Northern Cyprus|                    0.0|\n",
      "|   Saint Helena|                    0.0|\n",
      "|        Andorra|                    0.0|\n",
      "|        Ecuador|                    0.0|\n",
      "+---------------+-----------------------+\n",
      "\n",
      "Top 10 Countries with Highest Total Vaccinations per from Combo with Population Dataset: \n",
      "+--------------------+-----------------------+\n",
      "|             country|curr_total_vacc_per_100|\n",
      "+--------------------+-----------------------+\n",
      "|              Israel|      25.62534589723106|\n",
      "|           Gibraltar|     18.225533556947372|\n",
      "|      Cayman Islands|      7.243295775503386|\n",
      "|          Seychelles|      4.042538063847724|\n",
      "|         Isle of Man|      3.004276717736629|\n",
      "|       United States|      2.969879222631787|\n",
      "|             Denmark|     2.5430226820203665|\n",
      "|United Arab Emirates|     2.5224772906414477|\n",
      "|               Malta|     2.5014148273910584|\n",
      "|            Slovenia|      2.068697814177949|\n",
      "+--------------------+-----------------------+\n",
      "\n",
      "Top 10 Countries with Lowest Total Vaccinations per from Combo with Population Dataset: \n",
      "+---------------+-----------------------+\n",
      "|        country|curr_total_vacc_per_100|\n",
      "+---------------+-----------------------+\n",
      "|          China|                    0.0|\n",
      "|        Morocco|                    0.0|\n",
      "|          India|                    0.0|\n",
      "|         Russia|                    0.0|\n",
      "|         Kuwait|                    0.0|\n",
      "|        Myanmar|                    0.0|\n",
      "|Northern Cyprus|                    0.0|\n",
      "|   Saint Helena|                    0.0|\n",
      "|        Andorra|                    0.0|\n",
      "|         Turkey|                    0.0|\n",
      "+---------------+-----------------------+\n",
      "\n"
     ]
    }
   ],
   "source": [
    "# countries which have given the highest total number of vaccines (and lowest)\n",
    "print(\"Top 10 Countries with Highest Total Vaccinations: \")\n",
    "vaccinationDF_processed.groupBy(\"country\").agg(max(\"total_vaccinations\").alias(\"curr_total_vacc\")).sort(desc(\"curr_total_vacc\")).limit(10).show()\n",
    "\n",
    "print(\"Top 10 Countries with Lowest Total Vaccinations: \")\n",
    "vaccinationDF_processed.groupBy(\"country\").agg(max(\"total_vaccinations\").alias(\"curr_total_vacc\")).sort(col(\"curr_total_vacc\").asc()).limit(10).show()\n",
    "\n",
    "\n",
    "# countries with highest amount of people fully vaccinated \n",
    "print(\"Top 10 Countries with Highest Amount of People Fully Vaccinated: \")\n",
    "vaccinationDF_processed.groupBy(\"country\").agg(max(\"people_fully_vaccinated\").alias(\"curr_full_vacc\")).sort(desc(\"curr_full_vacc\")).limit(10).show()\n",
    "\n",
    "print(\"Top 10 Countries with Lowest Amount of People Fully Vaccinationed: \")\n",
    "vaccinationDF_processed.groupBy(\"country\").agg(max(\"people_fully_vaccinated\").alias(\"curr_full_vacc\")).sort(col(\"curr_full_vacc\").asc()).limit(10).show()\n",
    "\n",
    "\n",
    "# country where number of vaccinations per hundred is highest (and lowest)\n",
    "print(\"Top 10 Countries with Highest Total Vaccinations per 100: \")\n",
    "vaccinationDF_processed.groupBy(\"country\").agg(max(\"people_fully_vaccinated_per_hundred\").alias(\"curr_total_vacc_per_100\")).sort(desc(\"curr_total_vacc_per_100\")).limit(10).show()\n",
    "\n",
    "print(\"Top 10 Countries with Lowest Total Vaccinations per 100: \")\n",
    "vaccinationDF_processed.groupBy(\"country\").agg(max(\"people_fully_vaccinated_per_hundred\").alias(\"curr_total_vacc_per_100\")).sort(col(\"curr_total_vacc_per_100\").asc()).limit(10).show()\n",
    "\n",
    "\n",
    "# check that the vaccination % is similar to vaccinations per 100 \n",
    "print(\"Top 10 Countries with Highest Total Vaccinations per from Combo with Population Dataset: \")\n",
    "vaccinationDF_percent_pop.groupBy(\"country\").agg(max(\"vaccinated_percentage\").alias(\"curr_total_vacc_per_100\")).sort(desc(\"curr_total_vacc_per_100\")).limit(10).show()\n",
    "\n",
    "print(\"Top 10 Countries with Lowest Total Vaccinations per from Combo with Population Dataset: \")\n",
    "vaccinationDF_percent_pop.groupBy(\"country\").agg(max(\"vaccinated_percentage\").alias(\"curr_total_vacc_per_100\")).sort(col(\"curr_total_vacc_per_100\").asc()).limit(10).show()"
   ]
  },
  {
   "cell_type": "markdown",
   "metadata": {},
   "source": [
    "### Question 2"
   ]
  },
  {
   "cell_type": "markdown",
   "metadata": {},
   "source": [
    "In order to assess the worldwide progress of vaccinations we can divide the total number of fully vaccinated people by the worldwide population!"
   ]
  },
  {
   "cell_type": "code",
   "execution_count": 55,
   "metadata": {},
   "outputs": [
    {
     "name": "stdout",
     "output_type": "stream",
     "text": [
      "Total Number of Vaccinations Administered Worldwide: \n",
      "160361865.0\n",
      "\n",
      "Number of People Fully Vaccinated Worldwide: \n",
      "19487189.0\n",
      "\n",
      "Percentage of People Fully Vaccinated Worldwide: \n",
      "0.24983575641025643\n"
     ]
    }
   ],
   "source": [
    "# total vaccinations (not fully)\n",
    "total_vacc_by_country = vaccinationDF_processed.groupBy(\"country\").agg(max(\"total_vaccinations\").alias(\"total_vaccinations\"))\n",
    "print(\"Total Number of Vaccinations Administered Worldwide: \")\n",
    "print(total_vacc_by_country.groupBy().sum().collect()[0][0])\n",
    "\n",
    "# total fully vaccinated people \n",
    "total_full_vacc_by_country = vaccinationDF_processed.groupBy(\"country\").agg(max(\"people_fully_vaccinated\").alias(\"total_full_vaccinations\"))\n",
    "fully_vaccinated = total_full_vacc_by_country.groupBy().sum().collect()[0][0]\n",
    "print(\"\\nNumber of People Fully Vaccinated Worldwide: \")\n",
    "print(fully_vaccinated)\n",
    "\n",
    "# world populationn ~7.8 billion \n",
    "percent_vaccinated_worldwide = (fully_vaccinated / (7800000000))*100\n",
    "print(\"\\nPercentage of People Fully Vaccinated Worldwide: \")\n",
    "print(percent_vaccinated_worldwide)"
   ]
  },
  {
   "cell_type": "markdown",
   "metadata": {},
   "source": [
    "According to this dataset (which contains nulls for some countries fully vaccinated rows) 0.24%, of the world population has been fully vaccinated by the 09.02.2021\n",
    "\n",
    "The above numbers are for worldwide progress, we can also look into the progress per country:"
   ]
  },
  {
   "cell_type": "code",
   "execution_count": 80,
   "metadata": {},
   "outputs": [
    {
     "name": "stdout",
     "output_type": "stream",
     "text": [
      "+--------------------+---------------------------+\n",
      "|             country|curr_vaccination_percentage|\n",
      "+--------------------+---------------------------+\n",
      "|              Israel|          25.62534589723106|\n",
      "|           Gibraltar|         18.225533556947372|\n",
      "|      Cayman Islands|          7.243295775503386|\n",
      "|          Seychelles|          4.042538063847724|\n",
      "|         Isle of Man|          3.004276717736629|\n",
      "|       United States|          2.969879222631787|\n",
      "|             Denmark|         2.5430226820203665|\n",
      "|United Arab Emirates|         2.5224772906414477|\n",
      "|               Malta|         2.5014148273910584|\n",
      "|            Slovenia|          2.068697814177949|\n",
      "+--------------------+---------------------------+\n",
      "\n"
     ]
    }
   ],
   "source": [
    "# get top 10 countries with highest % of population vaccinated \n",
    "max_percent_vacc = vaccinationDF_percent_pop.groupBy(\"country\").agg(max(\"vaccinated_percentage\").alias(\"curr_vaccination_percentage\"))\n",
    "\n",
    "max_percent_vacc.sort(col(\"curr_vaccination_percentage\").desc()).limit(10).show()"
   ]
  },
  {
   "cell_type": "markdown",
   "metadata": {},
   "source": [
    "This coincides quite well with the vaccinated per 100 (we have good data!)."
   ]
  },
  {
   "cell_type": "markdown",
   "metadata": {},
   "source": [
    "### Question 3"
   ]
  },
  {
   "cell_type": "code",
   "execution_count": 99,
   "metadata": {},
   "outputs": [
    {
     "name": "stdout",
     "output_type": "stream",
     "text": [
      "\n",
      "Unique Vaccine Combinations: \n",
      "+----------------------------------------------------------------------------------+-----+\n",
      "|vaccines                                                                          |count|\n",
      "+----------------------------------------------------------------------------------+-----+\n",
      "|Moderna, Oxford/AstraZeneca, Pfizer/BioNTech                                      |703  |\n",
      "|Pfizer/BioNTech                                                                   |627  |\n",
      "|Oxford/AstraZeneca, Pfizer/BioNTech                                               |400  |\n",
      "|Moderna, Pfizer/BioNTech                                                          |360  |\n",
      "|Sputnik V                                                                         |82   |\n",
      "|Sinovac                                                                           |57   |\n",
      "|Sinopharm/Beijing, Sinopharm/Wuhan, Sinovac                                       |57   |\n",
      "|Pfizer/BioNTech, Sinovac                                                          |57   |\n",
      "|Pfizer/BioNTech, Sinopharm/Beijing                                                |49   |\n",
      "|Oxford/AstraZeneca                                                                |44   |\n",
      "|Oxford/AstraZeneca, Sinopharm/Beijing                                             |44   |\n",
      "|Oxford/AstraZeneca, Pfizer/BioNTech, Sinopharm/Beijing, Sinopharm/Wuhan, Sputnik V|36   |\n",
      "|Pfizer/BioNTech, Sinopharm/Beijing, Sputnik V                                     |31   |\n",
      "|Covaxin, Oxford/AstraZeneca                                                       |26   |\n",
      "|Oxford/AstraZeneca, Sinovac                                                       |25   |\n",
      "|Sinopharm/Beijing                                                                 |7    |\n",
      "+----------------------------------------------------------------------------------+-----+\n",
      "\n"
     ]
    }
   ],
   "source": [
    "# get count of occurences of vaccine groups \n",
    "print(\"\\nUnique Vaccine Combinations: \")\n",
    "vaccination_combos = vaccinationDF_processed.groupBy('vaccines').count().sort(col(\"count\").desc()).show(truncate=False)"
   ]
  },
  {
   "cell_type": "markdown",
   "metadata": {},
   "source": [
    "1. Moderna, Oxford/AstraZeneca, Pfizer/BioNTech: 703\n",
    "2. Pfizer/BioNTech: 627\n",
    "3. Oxford/AstraZeneca, Pfizer/BioNTech: 1139"
   ]
  },
  {
   "cell_type": "code",
   "execution_count": 95,
   "metadata": {},
   "outputs": [
    {
     "name": "stdout",
     "output_type": "stream",
     "text": [
      "+------------------+\n",
      "|vaccine_type      |\n",
      "+------------------+\n",
      "|Oxford/AstraZeneca|\n",
      "|Sinovac           |\n",
      "|Sinopharm/Wuhan   |\n",
      "|Sputnik V         |\n",
      "|Moderna           |\n",
      "|Pfizer/BioNTech   |\n",
      "|Covaxin           |\n",
      "|Sinopharm/Beijing |\n",
      "+------------------+\n",
      "\n"
     ]
    }
   ],
   "source": [
    "#create a dummy column to groupBy & in a single line\n",
    "vaccinationDF_processed = vaccinationDF_processed.withColumn(\"dummy_col\", split(\"vaccines\", \", \"))\n",
    "\n",
    "# create array of vaccine values (without duplicates)\n",
    "df_grp = vaccinationDF_processed.groupBy(\"dummy_col\").agg(collect_set(\"dummy_col\").alias(\"array_col\"))\n",
    "\n",
    "# explode the vaccine arrays \n",
    "df_grp = df_grp.withColumn(\"explode_col\", explode(\"array_col\"))\n",
    "df_grp = df_grp.withColumn(\"vaccine_type\", explode(\"explode_col\"))\n",
    "\n",
    "# get distinct values\n",
    "distinct_vacc = df_grp.select(\"vaccine_type\").distinct()\n",
    "\n",
    "#show\n",
    "distinct_vacc.show(truncate=False)"
   ]
  },
  {
   "cell_type": "code",
   "execution_count": 96,
   "metadata": {},
   "outputs": [
    {
     "name": "stdout",
     "output_type": "stream",
     "text": [
      "{'Oxford/AstraZeneca': 1278, 'Sinovac': 196, 'Sinopharm/Wuhan': 93, 'Sputnik V': 149, 'Moderna': 1063, 'Pfizer/BioNTech': 2263, 'Covaxin': 26, 'Sinopharm/Beijing': 224}\n"
     ]
    }
   ],
   "source": [
    "#create list of unique vaccine names\n",
    "vaccine_list = []\n",
    "for row in distinct_vacc.rdd.collect():\n",
    "    vaccine_list.append(row.vaccine_type)\n",
    "\n",
    "#get count of occurences of a vaccine being used\n",
    "vaccine_dict_all_records = {}\n",
    "for vaccine in vaccine_list:\n",
    "    count = vaccinationDF_processed.where(vaccinationDF_processed[\"vaccines\"].contains(vaccine)).count()\n",
    "    vaccine_dict_all_records[vaccine] = count\n",
    "\n",
    "print(vaccine_dict_all_records)"
   ]
  },
  {
   "cell_type": "markdown",
   "metadata": {},
   "source": [
    "1. Pfizer/BioNTech : 2263 occurences\n",
    "2. Oxford/AstraZeneca: 1278 occurences\n",
    "3. Moderna: 1063 occurences"
   ]
  },
  {
   "cell_type": "code",
   "execution_count": 105,
   "metadata": {},
   "outputs": [
    {
     "name": "stdout",
     "output_type": "stream",
     "text": [
      "+------------+------------------+--------------------+\n",
      "|     country|total_vaccinations|            vaccines|\n",
      "+------------+------------------+--------------------+\n",
      "|      Russia|         1000000.0|           Sputnik V|\n",
      "|      Sweden|          384725.0|Oxford/AstraZenec...|\n",
      "|      Jersey|           14838.0|     Pfizer/BioNTech|\n",
      "|   Singapore|          181000.0|     Pfizer/BioNTech|\n",
      "|      Turkey|         2732709.0|             Sinovac|\n",
      "|     Germany|         3369433.0|Moderna, Oxford/A...|\n",
      "|    Maldives|           16251.0|  Oxford/AstraZeneca|\n",
      "|Saint Helena|             107.0|  Oxford/AstraZeneca|\n",
      "|      France|         2216826.0|Moderna, Oxford/A...|\n",
      "|      Greece|          437872.0|Moderna, Oxford/A...|\n",
      "|   Sri Lanka|          160148.0|  Oxford/AstraZeneca|\n",
      "|     Algeria|              30.0|           Sputnik V|\n",
      "|    Slovakia|          242193.0|     Pfizer/BioNTech|\n",
      "|   Argentina|          513178.0|           Sputnik V|\n",
      "|       Wales|          632251.0|Oxford/AstraZenec...|\n",
      "|     Belgium|          440671.0|Moderna, Oxford/A...|\n",
      "|     Ecuador|            6228.0|     Pfizer/BioNTech|\n",
      "|     Finland|          227427.0|Moderna, Oxford/A...|\n",
      "|     Myanmar|            3800.0|  Oxford/AstraZeneca|\n",
      "|    Guernsey|            6673.0|     Pfizer/BioNTech|\n",
      "+------------+------------------+--------------------+\n",
      "only showing top 20 rows\n",
      "\n",
      "+----------------------------------------------------------------------------------+-----------+\n",
      "|vaccines                                                                          |amount     |\n",
      "+----------------------------------------------------------------------------------+-----------+\n",
      "|Moderna, Pfizer/BioNTech                                                          |5.17168E7  |\n",
      "|Sinopharm/Beijing, Sinopharm/Wuhan, Sinovac                                       |4.052E7    |\n",
      "|Oxford/AstraZeneca, Pfizer/BioNTech                                               |2.6820631E7|\n",
      "|Moderna, Oxford/AstraZeneca, Pfizer/BioNTech                                      |1.6024246E7|\n",
      "|Covaxin, Oxford/AstraZeneca                                                       |6611561.0  |\n",
      "|Oxford/AstraZeneca, Pfizer/BioNTech, Sinopharm/Beijing, Sinopharm/Wuhan, Sputnik V|4527144.0  |\n",
      "|Oxford/AstraZeneca, Sinovac                                                       |3820207.0  |\n",
      "|Sinovac                                                                           |3799569.0  |\n",
      "|Pfizer/BioNTech                                                                   |2452510.0  |\n",
      "|Sputnik V                                                                         |1516768.0  |\n",
      "|Pfizer/BioNTech, Sinovac                                                          |1078358.0  |\n",
      "|Oxford/AstraZeneca, Sinopharm/Beijing                                             |656875.0   |\n",
      "|Pfizer/BioNTech, Sinopharm/Beijing, Sputnik V                                     |544209.0   |\n",
      "|Oxford/AstraZeneca                                                                |369953.0   |\n",
      "|Pfizer/BioNTech, Sinopharm/Beijing                                                |212940.0   |\n",
      "|Sinopharm/Beijing                                                                 |1315.0     |\n",
      "+----------------------------------------------------------------------------------+-----------+\n",
      "\n"
     ]
    }
   ],
   "source": [
    "# for each country, get the max vaccinated (= total vaccinated so far) and then aggregate according to vaccine\n",
    "\n",
    "# create new dataframe with only most recent total value for vaccinations\n",
    "w = Window.partitionBy(\"country\")\n",
    "max_vaccs = vaccinationDF_processed.withColumn('curr_total_vacc', max('total_vaccinations').over(w))\\\n",
    "    .where(col('total_vaccinations') == col('curr_total_vacc'))\\\n",
    "    .drop('curr_total_vacc')\n",
    "\n",
    "# show results\n",
    "max_vaccs.select(\"country\", \"total_vaccinations\", \"vaccines\").show()\n",
    "\n",
    "#get count of total vaccinations for each combo\n",
    "max_vaccs.groupBy('vaccines').agg(_sum(\"total_vaccinations\").alias(\"amount\")).sort(col(\"amount\").desc()).show(truncate=False)"
   ]
  },
  {
   "cell_type": "markdown",
   "metadata": {},
   "source": [
    "The problem with this data is that there are mixes of different vaccines in certain countries, but no indicator of how many doses of each vaccine have been administered. It is therefore impossible to determine exactly the number of doses of each vaccine (a mix of 2 vaccines may be 95% one vaccine and 5% the other, but the count is the same)."
   ]
  },
  {
   "cell_type": "markdown",
   "metadata": {},
   "source": [
    "### Question 4"
   ]
  },
  {
   "cell_type": "code",
   "execution_count": 106,
   "metadata": {},
   "outputs": [
    {
     "name": "stdout",
     "output_type": "stream",
     "text": [
      "Row(min(date)='2020-12-13')\n",
      "Row(max(date)='2021-02-09')\n"
     ]
    }
   ],
   "source": [
    "#get the start date of the data\n",
    "print(start_date)\n",
    "print(end_date)"
   ]
  },
  {
   "cell_type": "code",
   "execution_count": 110,
   "metadata": {},
   "outputs": [
    {
     "name": "stdout",
     "output_type": "stream",
     "text": [
      "Total Days of Data: 59\n"
     ]
    }
   ],
   "source": [
    "current_days = 19+31+9\n",
    "print(\"Total Days of Data: {}\".format(current_days))\n",
    "current_percentage = 0.25"
   ]
  },
  {
   "cell_type": "code",
   "execution_count": 111,
   "metadata": {},
   "outputs": [],
   "source": [
    "days_needed = (current_days*70)/(current_percentage)\n",
    "years_needed = days_needed/365"
   ]
  },
  {
   "cell_type": "code",
   "execution_count": 322,
   "metadata": {},
   "outputs": [
    {
     "name": "stdout",
     "output_type": "stream",
     "text": [
      "Assuming all of the next days are like the previous 59 (which they won't be) \n",
      "Days Needed to get to 70% Worldwide Vaccinations: 16520.0\n",
      "Years Needed to get to 70% Worldwide Vaccinations: 45.26027397260274\n"
     ]
    }
   ],
   "source": [
    "print(\"Assuming all of the next days are like the previous 59 (which they won't be) \")\n",
    "print(\"Days Needed to get to 70% Worldwide Vaccinations: {}\".format(days_needed))\n",
    "print(\"Years Needed to get to 70% Worldwide Vaccinations: {}\".format(years_needed))"
   ]
  },
  {
   "cell_type": "markdown",
   "metadata": {},
   "source": [
    "### Attempting to predict with GBT"
   ]
  },
  {
   "cell_type": "code",
   "execution_count": 3,
   "metadata": {},
   "outputs": [],
   "source": [
    "from pyspark.ml.feature import VectorAssembler,VectorIndexer\n",
    "from pyspark.ml.regression import GBTRegressor\n",
    "from pyspark.ml.tuning import CrossValidator, ParamGridBuilder\n",
    "from pyspark.ml.evaluation import RegressionEvaluator\n",
    "from pyspark.ml import Pipeline"
   ]
  },
  {
   "cell_type": "code",
   "execution_count": 291,
   "metadata": {},
   "outputs": [
    {
     "name": "stdout",
     "output_type": "stream",
     "text": [
      "+----------+------------+---+\n",
      "|      date|vaccinations|day|\n",
      "+----------+------------+---+\n",
      "|2020-12-13|    172190.0|  1|\n",
      "|2020-12-14|    172190.0|  2|\n",
      "|2020-12-15|   1700690.0|  3|\n",
      "|2020-12-16|   1700690.0|  4|\n",
      "|2020-12-17|   1700690.0|  5|\n",
      "+----------+------------+---+\n",
      "\n"
     ]
    }
   ],
   "source": [
    "# create df of total_vaccinations by date \n",
    "total_vacc_by_date = vaccinationDF_processed.groupBy(\"date\").agg(_sum(\"total_vaccinations\").alias(\"vaccinations\")).orderBy(\"date\")\n",
    "\n",
    "total_vacc_by_date = total_vacc_by_date.withColumn(\"day\", row_number().over(Window.orderBy(\"date\")))\n",
    "\n",
    "total_vacc_by_date.limit(5).show()"
   ]
  },
  {
   "cell_type": "code",
   "execution_count": 292,
   "metadata": {},
   "outputs": [
    {
     "name": "stdout",
     "output_type": "stream",
     "text": [
      "root\n",
      " |-- date: string (nullable = true)\n",
      " |-- vaccinations: double (nullable = true)\n",
      " |-- day: integer (nullable = true)\n",
      "\n"
     ]
    }
   ],
   "source": [
    "total_vacc_by_date.printSchema()"
   ]
  },
  {
   "cell_type": "code",
   "execution_count": 293,
   "metadata": {},
   "outputs": [],
   "source": [
    "# split the data into training and test sets\n",
    "train, test = total_vacc_by_date.randomSplit([0.7, 0.3])"
   ]
  },
  {
   "cell_type": "code",
   "execution_count": 294,
   "metadata": {},
   "outputs": [],
   "source": [
    "# have only the day column be the feature\n",
    "featuresCols = total_vacc_by_date.columns\n",
    "featuresCols.remove('vaccinations')\n",
    "featuresCols.remove('date')"
   ]
  },
  {
   "cell_type": "code",
   "execution_count": 295,
   "metadata": {},
   "outputs": [],
   "source": [
    "# create vector assembler and vector indexer in order to make data correct format for MLlib\n",
    "vectorAssembler = VectorAssembler(inputCols=featuresCols, outputCol=\"rawFeatures\")\n",
    "vectorIndexer = VectorIndexer(inputCol=\"rawFeatures\", outputCol=\"features\", maxCategories=4)"
   ]
  },
  {
   "cell_type": "code",
   "execution_count": 296,
   "metadata": {},
   "outputs": [],
   "source": [
    "# intitalise GBT regressor\n",
    "gbt = GBTRegressor(labelCol=\"vaccinations\")"
   ]
  },
  {
   "cell_type": "code",
   "execution_count": 297,
   "metadata": {},
   "outputs": [],
   "source": [
    "# Create param grid of parameters to try \n",
    "paramGrid = ParamGridBuilder()\\\n",
    "  .addGrid(gbt.maxDepth, [2, 5])\\\n",
    "  .addGrid(gbt.maxIter, [10, 100])\\\n",
    "  .build()\n",
    "\n",
    "# Define evaluation metric\n",
    "evaluator = RegressionEvaluator(metricName=\"rmse\", labelCol=gbt.getLabelCol(), predictionCol=gbt.getPredictionCol())\n",
    "\n",
    "# CrossValidator, which will tune the model \n",
    "cv = CrossValidator(estimator=gbt, evaluator=evaluator, estimatorParamMaps=paramGrid)"
   ]
  },
  {
   "cell_type": "code",
   "execution_count": 298,
   "metadata": {},
   "outputs": [],
   "source": [
    "# creat piple with all previously created steps\n",
    "pipeline = Pipeline(stages=[vectorAssembler, vectorIndexer, cv])"
   ]
  },
  {
   "cell_type": "code",
   "execution_count": 299,
   "metadata": {},
   "outputs": [],
   "source": [
    "pipelineModel = pipeline.fit(train)"
   ]
  },
  {
   "cell_type": "code",
   "execution_count": 301,
   "metadata": {},
   "outputs": [
    {
     "data": {
      "text/plain": [
       "DataFrame[vaccinations: double, prediction: double, day: int]"
      ]
     },
     "metadata": {},
     "output_type": "display_data"
    }
   ],
   "source": [
    "predictions = pipelineModel.transform(test)\n",
    "\n",
    "display(predictions.select(\"vaccinations\", \"prediction\", *featuresCols))"
   ]
  },
  {
   "cell_type": "code",
   "execution_count": 302,
   "metadata": {},
   "outputs": [
    {
     "name": "stdout",
     "output_type": "stream",
     "text": [
      "RMSE on our test set: 2.05367e+06\n"
     ]
    }
   ],
   "source": [
    "rmse = evaluator.evaluate(predictions)\n",
    "print(\"RMSE on our test set: %g\" % rmse)"
   ]
  },
  {
   "cell_type": "code",
   "execution_count": 321,
   "metadata": {
    "scrolled": true
   },
   "outputs": [
    {
     "name": "stdout",
     "output_type": "stream",
     "text": [
      "+----------+-------+-----------+--------+--------------------+\n",
      "|      date|    day|rawFeatures|features|          prediction|\n",
      "+----------+-------+-----------+--------+--------------------+\n",
      "|2021-12-13|[365.0]|    [365.0]| [365.0]|1.2123853894493017E8|\n",
      "+----------+-------+-----------+--------+--------------------+\n",
      "\n"
     ]
    }
   ],
   "source": [
    "# get prediction of the number of people vaccinated 1 year from the start of vaccinations\n",
    "df_one_year_prog = spark.createDataFrame([(\"2021-12-13\", Vectors.dense(365))], [\"date\", \"day\"]) \n",
    "\n",
    "prediction = pipelineModel.transform(df_one_year_prog)\n",
    "\n",
    "prediction.show()"
   ]
  },
  {
   "cell_type": "code",
   "execution_count": 317,
   "metadata": {},
   "outputs": [],
   "source": [
    "num_people = 121238538"
   ]
  },
  {
   "cell_type": "code",
   "execution_count": 319,
   "metadata": {},
   "outputs": [
    {
     "name": "stdout",
     "output_type": "stream",
     "text": [
      "Predicted % of the world fully vaccinated on 13.12.2021: 1.5543402307692307%\n"
     ]
    }
   ],
   "source": [
    "# prediction of % of pop fully vaccinated in a year \n",
    "percent_fully_vaccinated = (num_people/7800000000)*100\n",
    "print(\"Predicted % of the world fully vaccinated on 13.12.2021: {}%\".format(percent_fully_vaccinated))"
   ]
  },
  {
   "cell_type": "code",
   "execution_count": null,
   "metadata": {},
   "outputs": [],
   "source": []
  }
 ],
 "metadata": {
  "kernelspec": {
   "display_name": "Python 3",
   "language": "python",
   "name": "python3"
  },
  "language_info": {
   "codemirror_mode": {
    "name": "ipython",
    "version": 3
   },
   "file_extension": ".py",
   "mimetype": "text/x-python",
   "name": "python",
   "nbconvert_exporter": "python",
   "pygments_lexer": "ipython3",
   "version": "3.7.3"
  }
 },
 "nbformat": 4,
 "nbformat_minor": 4
}
